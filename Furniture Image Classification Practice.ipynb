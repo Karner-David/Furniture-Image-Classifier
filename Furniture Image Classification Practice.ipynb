{
 "cells": [
  {
   "cell_type": "markdown",
   "id": "51abf125",
   "metadata": {},
   "source": [
    "# In this notebook, we will be practicing image classification using furniture datasets that have been split into 5 classifications: TV, Table, Fridge, Chair, Cabinet"
   ]
  },
  {
   "cell_type": "code",
   "execution_count": null,
   "id": "3cb72568",
   "metadata": {},
   "outputs": [],
   "source": [
    "import pandas as pd\n",
    "print('Hello World')"
   ]
  }
 ],
 "metadata": {
  "kernelspec": {
   "display_name": "Python 3 (ipykernel)",
   "language": "python",
   "name": "python3"
  },
  "language_info": {
   "codemirror_mode": {
    "name": "ipython",
    "version": 3
   },
   "file_extension": ".py",
   "mimetype": "text/x-python",
   "name": "python",
   "nbconvert_exporter": "python",
   "pygments_lexer": "ipython3",
   "version": "3.11.5"
  }
 },
 "nbformat": 4,
 "nbformat_minor": 5
}
